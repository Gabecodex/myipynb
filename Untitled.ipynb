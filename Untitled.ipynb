{
 "cells": [
  {
   "cell_type": "markdown",
   "id": "277066ba-d4e6-4706-b861-06c8647a3318",
   "metadata": {},
   "source": [
    "# My Jupyter Notebook on IBM Watson Studio"
   ]
  },
  {
   "cell_type": "markdown",
   "id": "75994fc0-0564-482b-b9ea-7bb20c209bbf",
   "metadata": {},
   "source": [
    "**Gabriel Faria Medeiros de Souza**"
   ]
  },
  {
   "cell_type": "markdown",
   "id": "fd6ff904-f73b-4344-b2da-e6abb5592ad6",
   "metadata": {},
   "source": [
    "Data Scientist, Python developer\n"
   ]
  },
  {
   "cell_type": "markdown",
   "id": "df1ad39a-3679-4300-b39a-50a8a175a2f4",
   "metadata": {},
   "source": [
    "_I am interested in data science because I like to make corelations between multiple informations_"
   ]
  },
  {
   "cell_type": "markdown",
   "id": "350beeea-5c97-4dd5-a899-1bcac6b9d4cf",
   "metadata": {},
   "source": [
    "### pythagorean theorem\n"
   ]
  },
  {
   "cell_type": "code",
   "execution_count": 2,
   "id": "6488cc92-4649-40aa-81b2-3a1c94f572f1",
   "metadata": {},
   "outputs": [
    {
     "name": "stdin",
     "output_type": "stream",
     "text": [
      "side a:  10\n",
      "side b:  2\n"
     ]
    },
    {
     "name": "stdout",
     "output_type": "stream",
     "text": [
      "hypotenuse is 10.198039027185569\n"
     ]
    }
   ],
   "source": [
    "import math\n",
    "a = float(input(\"side a: \"))\n",
    "b = float(input(\"side b: \"))\n",
    "c = math. sqrt(a ** 2 + b ** 2)\n",
    "print(f\"hypotenuse is {c}\")"
   ]
  },
  {
   "cell_type": "markdown",
   "id": "3af75f97-495a-432b-9d58-1e60dce8ced6",
   "metadata": {},
   "source": [
    "| Brand    |    Model      |  Id   |\n",
    "|----------|:-------------:|------:|\n",
    "| Volvo    |  C40          |   1   |\n",
    "| Fiat     |  Fiat 500     |   2   |\n",
    "| subaru   |  solterra     |   3   |"
   ]
  },
  {
   "cell_type": "code",
   "execution_count": null,
   "id": "a3f52693-a9fd-46d5-af08-ae6c39a564b2",
   "metadata": {},
   "outputs": [],
   "source": []
  }
 ],
 "metadata": {
  "kernelspec": {
   "display_name": "Python",
   "language": "python",
   "name": "conda-env-python-py"
  },
  "language_info": {
   "codemirror_mode": {
    "name": "ipython",
    "version": 3
   },
   "file_extension": ".py",
   "mimetype": "text/x-python",
   "name": "python",
   "nbconvert_exporter": "python",
   "pygments_lexer": "ipython3",
   "version": "3.7.12"
  }
 },
 "nbformat": 4,
 "nbformat_minor": 5
}
